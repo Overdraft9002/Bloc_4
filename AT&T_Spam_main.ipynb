{
  "nbformat": 4,
  "nbformat_minor": 0,
  "metadata": {
    "colab": {
      "provenance": []
    },
    "kernelspec": {
      "name": "python3",
      "display_name": "Python 3"
    },
    "language_info": {
      "name": "python"
    }
  },
  "cells": [
    {
      "cell_type": "code",
      "source": [
        "# Install keras-nlp\n",
        "!pip install -q keras-nlp tensorflow"
      ],
      "metadata": {
        "colab": {
          "base_uri": "https://localhost:8080/"
        },
        "id": "6jVPslkuK7U8",
        "outputId": "1e15a016-75da-4045-cb1a-093309c1f63c"
      },
      "execution_count": null,
      "outputs": [
        {
          "output_type": "stream",
          "name": "stdout",
          "text": [
            "\u001b[2K     \u001b[90m━━━━━━━━━━━━━━━━━━━━━━━━━━━━━━━━━━━━━━━\u001b[0m \u001b[32m337.5/337.5 KB\u001b[0m \u001b[31m7.0 MB/s\u001b[0m eta \u001b[36m0:00:00\u001b[0m\n",
            "\u001b[2K     \u001b[90m━━━━━━━━━━━━━━━━━━━━━━━━━━━━━━━━━━━━━━━━\u001b[0m \u001b[32m5.8/5.8 MB\u001b[0m \u001b[31m62.4 MB/s\u001b[0m eta \u001b[36m0:00:00\u001b[0m\n",
            "\u001b[?25h"
          ]
        }
      ]
    },
    {
      "cell_type": "code",
      "execution_count": null,
      "metadata": {
        "id": "52lZdcHB0Fzz"
      },
      "outputs": [],
      "source": [
        "# Import librairies\n",
        "import tensorflow as tf \n",
        "import numpy as np \n",
        "import pandas as pd\n",
        "import keras_nlp\n",
        "import tensorflow as tf\n",
        "import tensorflow_hub as hub\n",
        "\n",
        "from sklearn.model_selection import train_test_split\n",
        "from tensorflow import keras"
      ]
    },
    {
      "cell_type": "code",
      "source": [
        "# Import dataset\n",
        "dataset = pd.read_csv('/content/spam.csv', encoding=\"ISO-8859-1\")"
      ],
      "metadata": {
        "id": "iYBvhhXm0WEc"
      },
      "execution_count": null,
      "outputs": []
    },
    {
      "cell_type": "code",
      "source": [
        "# Rename columns to make apparent target and email\n",
        "dataset = dataset.rename(columns={'v1':'Target', 'v2':'email'})"
      ],
      "metadata": {
        "id": "pXQCLqdr2KOE"
      },
      "execution_count": null,
      "outputs": []
    },
    {
      "cell_type": "code",
      "source": [
        "# Delete empty columns\n",
        "del dataset['Unnamed: 2']\n",
        "del dataset['Unnamed: 3']\n",
        "del dataset['Unnamed: 4']"
      ],
      "metadata": {
        "id": "5pR6M1SW4jXc"
      },
      "execution_count": null,
      "outputs": []
    },
    {
      "cell_type": "code",
      "source": [
        "# Use a binary to determine if email is spam or ham. This column will be the target used by the model.\n",
        "dataset['target_binary'] = dataset['Target'].apply(lambda x: 1.0 if x == 'spam' else 0.0)"
      ],
      "metadata": {
        "id": "t9vhgNde6U0X"
      },
      "execution_count": null,
      "outputs": []
    },
    {
      "cell_type": "code",
      "source": [
        "# Import preprocessor and encoder from the keras hub\n",
        "bert_preprocessor = hub.KerasLayer('https://tfhub.dev/tensorflow/bert_en_uncased_preprocess/3')\n",
        "bert_encoder = hub.KerasLayer('https://tfhub.dev/tensorflow/small_bert/bert_en_uncased_L-2_H-128_A-2/2')"
      ],
      "metadata": {
        "id": "dHKeMP6OmGks",
        "colab": {
          "base_uri": "https://localhost:8080/"
        },
        "outputId": "3e777134-2381-4f8b-e6f7-e0d307670ce2"
      },
      "execution_count": null,
      "outputs": [
        {
          "output_type": "stream",
          "name": "stderr",
          "text": [
            "WARNING:tensorflow:Please fix your imports. Module tensorflow.python.training.tracking.data_structures has been moved to tensorflow.python.trackable.data_structures. The old module will be deleted in version 2.11.\n"
          ]
        }
      ]
    },
    {
      "cell_type": "code",
      "source": [
        "# Do train test split\n",
        "xtrain, xval, ytrain, yval = train_test_split(dataset.email, dataset.target_binary, test_size=0.3, stratify = dataset.target_binary)"
      ],
      "metadata": {
        "id": "hxnkk45V89sO"
      },
      "execution_count": null,
      "outputs": []
    },
    {
      "cell_type": "code",
      "source": [
        "# Build deep learning model\n",
        "# Input layer to feed the data to the model\n",
        "text_input = tf.keras.layers.Input(shape = (), dtype = tf.string, name = 'Inputs')\n",
        "# Preprocessing layer\n",
        "preprocessed_text = bert_preprocessor(text_input)\n",
        "# Embedding layer\n",
        "embeed = bert_encoder(preprocessed_text)\n",
        "# Dropout unecessary neurons\n",
        "dropout = tf.keras.layers.Dropout(0.1, name = 'Dropout')(embeed['pooled_output'])\n",
        "# Output layer\n",
        "outputs = tf.keras.layers.Dense(1, activation = 'sigmoid', name = 'Dense')(dropout)"
      ],
      "metadata": {
        "id": "xuBOnYkLmC06",
        "colab": {
          "base_uri": "https://localhost:8080/"
        },
        "outputId": "f5292c4b-d9b7-4e1c-a8d7-b0c340562979"
      },
      "execution_count": null,
      "outputs": [
        {
          "output_type": "stream",
          "name": "stderr",
          "text": [
            "WARNING:tensorflow:From /usr/local/lib/python3.8/dist-packages/tensorflow/python/autograph/pyct/static_analysis/liveness.py:83: Analyzer.lamba_check (from tensorflow.python.autograph.pyct.static_analysis.liveness) is deprecated and will be removed after 2023-09-23.\n",
            "Instructions for updating:\n",
            "Lambda fuctions will be no more assumed to be used in the statement where they are used, or at least in the same block. https://github.com/tensorflow/tensorflow/issues/56089\n"
          ]
        }
      ]
    },
    {
      "cell_type": "code",
      "source": [
        "# creat final model\n",
        "model = tf.keras.Model(inputs = [text_input], outputs = [outputs])"
      ],
      "metadata": {
        "id": "cOdIJxqLm5nP"
      },
      "execution_count": null,
      "outputs": []
    },
    {
      "cell_type": "code",
      "source": [
        "# check the summary of the model\n",
        "model.summary()"
      ],
      "metadata": {
        "colab": {
          "base_uri": "https://localhost:8080/"
        },
        "id": "P5DSUDdFm7Tv",
        "outputId": "aa88d7cb-9fda-43fb-dfac-7471641ce2d1"
      },
      "execution_count": null,
      "outputs": [
        {
          "output_type": "stream",
          "name": "stdout",
          "text": [
            "Model: \"model\"\n",
            "__________________________________________________________________________________________________\n",
            " Layer (type)                   Output Shape         Param #     Connected to                     \n",
            "==================================================================================================\n",
            " Inputs (InputLayer)            [(None,)]            0           []                               \n",
            "                                                                                                  \n",
            " keras_layer (KerasLayer)       {'input_mask': (Non  0           ['Inputs[0][0]']                 \n",
            "                                e, 128),                                                          \n",
            "                                 'input_word_ids':                                                \n",
            "                                (None, 128),                                                      \n",
            "                                 'input_type_ids':                                                \n",
            "                                (None, 128)}                                                      \n",
            "                                                                                                  \n",
            " keras_layer_1 (KerasLayer)     {'pooled_output': (  4385921     ['keras_layer[0][0]',            \n",
            "                                None, 128),                       'keras_layer[0][1]',            \n",
            "                                 'sequence_output':               'keras_layer[0][2]']            \n",
            "                                 (None, 128, 128),                                                \n",
            "                                 'encoder_outputs':                                               \n",
            "                                 [(None, 128, 128),                                               \n",
            "                                 (None, 128, 128)],                                               \n",
            "                                 'default': (None,                                                \n",
            "                                128)}                                                             \n",
            "                                                                                                  \n",
            " Dropout (Dropout)              (None, 128)          0           ['keras_layer_1[0][3]']          \n",
            "                                                                                                  \n",
            " Dense (Dense)                  (None, 1)            129         ['Dropout[0][0]']                \n",
            "                                                                                                  \n",
            "==================================================================================================\n",
            "Total params: 4,386,050\n",
            "Trainable params: 129\n",
            "Non-trainable params: 4,385,921\n",
            "__________________________________________________________________________________________________\n"
          ]
        }
      ]
    },
    {
      "cell_type": "code",
      "source": [
        "# Define metrics of model. SInce it is a binary classification problem, the accuracy is binary.\n",
        "Metrics = [tf.keras.metrics.BinaryAccuracy(name = 'accuracy'),\n",
        "           tf.keras.metrics.Precision(name = 'precision'),\n",
        "           tf.keras.metrics.Recall(name = 'recall')\n",
        "           ]"
      ],
      "metadata": {
        "id": "6SvcH4BPnF_I"
      },
      "execution_count": null,
      "outputs": []
    },
    {
      "cell_type": "code",
      "source": [
        "# Compile our model\n",
        "model.compile(optimizer ='adam',\n",
        "               loss = 'binary_crossentropy',\n",
        "               metrics = Metrics)"
      ],
      "metadata": {
        "id": "N0RB32NWLhdh"
      },
      "execution_count": null,
      "outputs": []
    },
    {
      "cell_type": "code",
      "source": [
        "# Fit model\n",
        "history = model.fit(xtrain, ytrain, epochs = 10)"
      ],
      "metadata": {
        "colab": {
          "base_uri": "https://localhost:8080/"
        },
        "id": "CpFUwNRSFwPa",
        "outputId": "913084e7-d9b4-4c48-eb22-ad0086d4ca51"
      },
      "execution_count": null,
      "outputs": [
        {
          "output_type": "stream",
          "name": "stdout",
          "text": [
            "Epoch 1/10\n",
            "122/122 [==============================] - 25s 166ms/step - loss: 0.2852 - accuracy: 0.8792 - precision: 0.8714 - recall: 0.1166\n",
            "Epoch 2/10\n",
            "122/122 [==============================] - 19s 156ms/step - loss: 0.2022 - accuracy: 0.9236 - precision: 0.9061 - recall: 0.4799\n",
            "Epoch 3/10\n",
            "122/122 [==============================] - 20s 165ms/step - loss: 0.1723 - accuracy: 0.9382 - precision: 0.8832 - recall: 0.6214\n",
            "Epoch 4/10\n",
            "122/122 [==============================] - 20s 165ms/step - loss: 0.1547 - accuracy: 0.9462 - precision: 0.8826 - recall: 0.6902\n",
            "Epoch 5/10\n",
            "122/122 [==============================] - 20s 167ms/step - loss: 0.1447 - accuracy: 0.9503 - precision: 0.8889 - recall: 0.7189\n",
            "Epoch 6/10\n",
            "122/122 [==============================] - 19s 158ms/step - loss: 0.1361 - accuracy: 0.9536 - precision: 0.8869 - recall: 0.7495\n",
            "Epoch 7/10\n",
            "122/122 [==============================] - 20s 167ms/step - loss: 0.1285 - accuracy: 0.9559 - precision: 0.8944 - recall: 0.7610\n",
            "Epoch 8/10\n",
            "122/122 [==============================] - 19s 157ms/step - loss: 0.1261 - accuracy: 0.9533 - precision: 0.8698 - recall: 0.7667\n",
            "Epoch 9/10\n",
            "122/122 [==============================] - 20s 167ms/step - loss: 0.1200 - accuracy: 0.9585 - precision: 0.8932 - recall: 0.7839\n",
            "Epoch 10/10\n",
            "122/122 [==============================] - 26s 210ms/step - loss: 0.1181 - accuracy: 0.9585 - precision: 0.8932 - recall: 0.7839\n"
          ]
        }
      ]
    },
    {
      "cell_type": "code",
      "source": [
        "# Evaluate performance\n",
        "model.evaluate(xval,yval)"
      ],
      "metadata": {
        "colab": {
          "base_uri": "https://localhost:8080/"
        },
        "id": "GpPmsC7nnY6z",
        "outputId": "c6939287-53c0-4b08-b225-e33d8eeb8229"
      },
      "execution_count": null,
      "outputs": [
        {
          "output_type": "stream",
          "name": "stdout",
          "text": [
            "53/53 [==============================] - 10s 172ms/step - loss: 0.1157 - accuracy: 0.9635 - precision: 0.9055 - recall: 0.8125\n"
          ]
        },
        {
          "output_type": "execute_result",
          "data": {
            "text/plain": [
              "[0.11571221798658371, 0.9635167717933655, 0.9054726362228394, 0.8125]"
            ]
          },
          "metadata": {},
          "execution_count": 18
        }
      ]
    },
    {
      "cell_type": "code",
      "source": [],
      "metadata": {
        "id": "wbboEvJjq7AA"
      },
      "execution_count": null,
      "outputs": []
    }
  ]
}